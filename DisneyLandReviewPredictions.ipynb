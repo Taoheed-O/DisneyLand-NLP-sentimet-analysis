{
 "cells": [
  {
   "cell_type": "markdown",
   "metadata": {},
   "source": [
    "# BUILDING A MACHINE LEARNING MODEL OF THE DISNEYLAND TOUR'S \n",
    "# REVIEWS"
   ]
  },
  {
   "cell_type": "markdown",
   "metadata": {},
   "source": [
    "## importing necessary libraries"
   ]
  },
  {
   "cell_type": "code",
   "execution_count": 5,
   "metadata": {},
   "outputs": [],
   "source": [
    "# importing the necessary libraries\n",
    "from sklearn.metrics import f1_score,accuracy_score,classification_report\n",
    "from sklearn.feature_extraction.text import CountVectorizer\n",
    "from sklearn.model_selection import train_test_split\n",
    "from sklearn.linear_model import LogisticRegression\n",
    "from sklearn.tree import DecisionTreeClassifier\n",
    "from sklearn.svm import SVC\n",
    "import numpy as np\n",
    "import pandas as pd\n",
    "import matplotlib.pyplot as plt"
   ]
  },
  {
   "cell_type": "markdown",
   "metadata": {},
   "source": [
    "## reading the csv file"
   ]
  },
  {
   "cell_type": "code",
   "execution_count": 6,
   "metadata": {},
   "outputs": [
    {
     "data": {
      "text/html": [
       "<div>\n",
       "<style scoped>\n",
       "    .dataframe tbody tr th:only-of-type {\n",
       "        vertical-align: middle;\n",
       "    }\n",
       "\n",
       "    .dataframe tbody tr th {\n",
       "        vertical-align: top;\n",
       "    }\n",
       "\n",
       "    .dataframe thead th {\n",
       "        text-align: right;\n",
       "    }\n",
       "</style>\n",
       "<table border=\"1\" class=\"dataframe\">\n",
       "  <thead>\n",
       "    <tr style=\"text-align: right;\">\n",
       "      <th></th>\n",
       "      <th>Review_ID</th>\n",
       "      <th>Rating</th>\n",
       "      <th>Year_Month</th>\n",
       "      <th>Reviewer_Location</th>\n",
       "      <th>Review_Text</th>\n",
       "      <th>Branch</th>\n",
       "    </tr>\n",
       "  </thead>\n",
       "  <tbody>\n",
       "    <tr>\n",
       "      <th>0</th>\n",
       "      <td>670772142</td>\n",
       "      <td>4</td>\n",
       "      <td>2019-4</td>\n",
       "      <td>Australia</td>\n",
       "      <td>If you've ever been to Disneyland anywhere you...</td>\n",
       "      <td>Disneyland_HongKong</td>\n",
       "    </tr>\n",
       "    <tr>\n",
       "      <th>1</th>\n",
       "      <td>670682799</td>\n",
       "      <td>4</td>\n",
       "      <td>2019-5</td>\n",
       "      <td>Philippines</td>\n",
       "      <td>Its been a while since d last time we visit HK...</td>\n",
       "      <td>Disneyland_HongKong</td>\n",
       "    </tr>\n",
       "    <tr>\n",
       "      <th>2</th>\n",
       "      <td>670623270</td>\n",
       "      <td>4</td>\n",
       "      <td>2019-4</td>\n",
       "      <td>United Arab Emirates</td>\n",
       "      <td>Thanks God it wasn   t too hot or too humid wh...</td>\n",
       "      <td>Disneyland_HongKong</td>\n",
       "    </tr>\n",
       "    <tr>\n",
       "      <th>3</th>\n",
       "      <td>670607911</td>\n",
       "      <td>4</td>\n",
       "      <td>2019-4</td>\n",
       "      <td>Australia</td>\n",
       "      <td>HK Disneyland is a great compact park. Unfortu...</td>\n",
       "      <td>Disneyland_HongKong</td>\n",
       "    </tr>\n",
       "    <tr>\n",
       "      <th>4</th>\n",
       "      <td>670607296</td>\n",
       "      <td>4</td>\n",
       "      <td>2019-4</td>\n",
       "      <td>United Kingdom</td>\n",
       "      <td>the location is not in the city, took around 1...</td>\n",
       "      <td>Disneyland_HongKong</td>\n",
       "    </tr>\n",
       "  </tbody>\n",
       "</table>\n",
       "</div>"
      ],
      "text/plain": [
       "   Review_ID  Rating Year_Month     Reviewer_Location  \\\n",
       "0  670772142       4     2019-4             Australia   \n",
       "1  670682799       4     2019-5           Philippines   \n",
       "2  670623270       4     2019-4  United Arab Emirates   \n",
       "3  670607911       4     2019-4             Australia   \n",
       "4  670607296       4     2019-4        United Kingdom   \n",
       "\n",
       "                                         Review_Text               Branch  \n",
       "0  If you've ever been to Disneyland anywhere you...  Disneyland_HongKong  \n",
       "1  Its been a while since d last time we visit HK...  Disneyland_HongKong  \n",
       "2  Thanks God it wasn   t too hot or too humid wh...  Disneyland_HongKong  \n",
       "3  HK Disneyland is a great compact park. Unfortu...  Disneyland_HongKong  \n",
       "4  the location is not in the city, took around 1...  Disneyland_HongKong  "
      ]
     },
     "execution_count": 6,
     "metadata": {},
     "output_type": "execute_result"
    }
   ],
   "source": [
    "# reading the file...\n",
    "file = pd.read_csv('DisneylandReviews.csv')\n",
    "files = file.copy()\n",
    "file.head()"
   ]
  },
  {
   "cell_type": "code",
   "execution_count": 7,
   "metadata": {},
   "outputs": [
    {
     "data": {
      "text/html": [
       "<div>\n",
       "<style scoped>\n",
       "    .dataframe tbody tr th:only-of-type {\n",
       "        vertical-align: middle;\n",
       "    }\n",
       "\n",
       "    .dataframe tbody tr th {\n",
       "        vertical-align: top;\n",
       "    }\n",
       "\n",
       "    .dataframe thead th {\n",
       "        text-align: right;\n",
       "    }\n",
       "</style>\n",
       "<table border=\"1\" class=\"dataframe\">\n",
       "  <thead>\n",
       "    <tr style=\"text-align: right;\">\n",
       "      <th></th>\n",
       "      <th>Review_Text</th>\n",
       "      <th>Rating</th>\n",
       "    </tr>\n",
       "  </thead>\n",
       "  <tbody>\n",
       "    <tr>\n",
       "      <th>0</th>\n",
       "      <td>If you've ever been to Disneyland anywhere you...</td>\n",
       "      <td>4</td>\n",
       "    </tr>\n",
       "    <tr>\n",
       "      <th>1</th>\n",
       "      <td>Its been a while since d last time we visit HK...</td>\n",
       "      <td>4</td>\n",
       "    </tr>\n",
       "    <tr>\n",
       "      <th>2</th>\n",
       "      <td>Thanks God it wasn   t too hot or too humid wh...</td>\n",
       "      <td>4</td>\n",
       "    </tr>\n",
       "    <tr>\n",
       "      <th>3</th>\n",
       "      <td>HK Disneyland is a great compact park. Unfortu...</td>\n",
       "      <td>4</td>\n",
       "    </tr>\n",
       "    <tr>\n",
       "      <th>4</th>\n",
       "      <td>the location is not in the city, took around 1...</td>\n",
       "      <td>4</td>\n",
       "    </tr>\n",
       "  </tbody>\n",
       "</table>\n",
       "</div>"
      ],
      "text/plain": [
       "                                         Review_Text  Rating\n",
       "0  If you've ever been to Disneyland anywhere you...       4\n",
       "1  Its been a while since d last time we visit HK...       4\n",
       "2  Thanks God it wasn   t too hot or too humid wh...       4\n",
       "3  HK Disneyland is a great compact park. Unfortu...       4\n",
       "4  the location is not in the city, took around 1...       4"
      ]
     },
     "execution_count": 7,
     "metadata": {},
     "output_type": "execute_result"
    }
   ],
   "source": [
    "# for this particular model we need only the reviews and the ratings and so we will reduce our file to just the two\n",
    "file = file[['Review_Text','Rating']]\n",
    "file.head()"
   ]
  },
  {
   "cell_type": "code",
   "execution_count": 8,
   "metadata": {},
   "outputs": [
    {
     "data": {
      "text/plain": [
       "[{'Reviews': \"If you've ever been to Disneyland anywhere you'll find Disneyland Hong Kong very similar in the layout when you walk into main street! It has a very familiar feel. One of the rides  its a Small World  is absolutely fabulous and worth doing. The day we visited was fairly hot and relatively busy but the queues moved fairly well. \",\n",
       "  'Rating': 4},\n",
       " {'Reviews': \"Its been a while since d last time we visit HK Disneyland .. Yet, this time we only stay in Tomorrowland .. AKA Marvel land!Now they have Iron Man Experience n d Newly open Ant Man n d Wasp!!Ironman .. Great feature n so Exciting, especially d whole scenery of HK (HK central area to Kowloon)!Antman .. Changed by previous Buzz lightyear! More or less d same, but I'm expecting to have something most!!However, my boys like it!!Space Mountain .. Turns into Star Wars!! This 1 is Great!!!For cast members (staffs) .. Felt bit MINUS point from before!!! Just dun feel like its a Disney brand!! Seems more local like Ocean Park or even worst!!They got no SMILING face, but just wanna u to enter n attraction n leave!!Hello this is supposed to be Happiest Place on Earth brand!! But, just really Dont feel it!!Bakery in Main Street now have more attractive delicacies n Disney theme sweets .. These are Good Points!!Last, they also have Starbucks now inside the theme park!!\",\n",
       "  'Rating': 4}]"
      ]
     },
     "execution_count": 8,
     "metadata": {},
     "output_type": "execute_result"
    }
   ],
   "source": [
    "# now we need to create a sentiment class from our rating to keep our file clean...\n",
    "# to do that lets change our file into a JSONlike file by putting it in a list of dictionary..\n",
    "#lets make use of a for-loop\n",
    "\n",
    "# lets change the individual columns into a list\n",
    "Ratings = list(file['Rating'])\n",
    "Reviews = list(file['Review_Text'])\n",
    "new_file = []\n",
    "for ratings,reviews in zip(Ratings,Reviews):\n",
    "    List = {'Reviews':reviews,'Rating':ratings}\n",
    "    new_file.append(List)\n",
    "    \n",
    "new_file[:2]"
   ]
  },
  {
   "cell_type": "code",
   "execution_count": 9,
   "metadata": {},
   "outputs": [],
   "source": [
    "# now lets create the class ...\n",
    "\n",
    "\n",
    "class SENTIMENT:\n",
    "    POSITIVE = 'POSITIVE'\n",
    "    NEGATIVE = 'NEGATIVE'\n",
    "    #positive sentiments = ratings 1 and 2\n",
    "    #negative sentiments = ratings > 2\n",
    "    \n",
    "#    \n",
    "class Review:\n",
    "    def __init__(self,Reviews,Rating):\n",
    "        self.Reviews = Reviews\n",
    "        self.Rating = Rating\n",
    "        self.Sentiment = self.get_sentiment()\n",
    "        \n",
    "    def get_sentiment(self):\n",
    "        if (self.Rating == 1 or self.Rating == 2):\n",
    "            return SENTIMENT.NEGATIVE\n",
    "        else:\n",
    "            return SENTIMENT.POSITIVE   \n",
    "        \n",
    "class ReviewContainer:\n",
    "    def __init__(self,reviews):\n",
    "        self.reviews = reviews\n",
    "        \n",
    "    def get_reviews(self):\n",
    "        return [x.Reviews for x in self.reviews]\n",
    "    def get_sentiment(self):\n",
    "        return [x.Sentiment for x in self.reviews]\n",
    "    \n",
    "# this method evenly distributes between the positive and negative reviews    \n",
    "    def EvenlyDistribute(self):\n",
    "        positive = list(filter(lambda x:x.Sentiment==SENTIMENT.POSITIVE,self.reviews))\n",
    "        negative = list(filter(lambda x:x.Sentiment==SENTIMENT.NEGATIVE,self.reviews))\n",
    "        positive_shrunked = positive[:len(negative)]\n",
    "        self.reviews = negative + positive_shrunked      "
   ]
  },
  {
   "cell_type": "code",
   "execution_count": 10,
   "metadata": {},
   "outputs": [
    {
     "data": {
      "text/plain": [
       "\"If you've ever been to Disneyland anywhere you'll find Disneyland Hong Kong very similar in the layout when you walk into main street! It has a very familiar feel. One of the rides  its a Small World  is absolutely fabulous and worth doing. The day we visited was fairly hot and relatively busy but the queues moved fairly well. \""
      ]
     },
     "execution_count": 10,
     "metadata": {},
     "output_type": "execute_result"
    }
   ],
   "source": [
    "Disney_file = []\n",
    "for lists in new_file:\n",
    "    new_file_list = Review(lists['Reviews'],lists['Rating'])\n",
    "    Disney_file.append(new_file_list)\n",
    "Disney_file[0].Reviews"
   ]
  },
  {
   "cell_type": "code",
   "execution_count": 11,
   "metadata": {},
   "outputs": [],
   "source": [
    "# lets build or model\n",
    "# lets split our Disney_file\n",
    "\n",
    "train,test = train_test_split(Disney_file,test_size=0.3,random_state=21)\n",
    "# lets split both our train and test into xs and ys\n",
    "# lets make use of our class\n",
    "train_cont = ReviewContainer(train)\n",
    "test_cont = ReviewContainer(test)\n",
    "\n",
    "train_cont.EvenlyDistribute()\n",
    "test_cont.EvenlyDistribute()\n",
    "\n",
    "x_train = train_cont.get_reviews()\n",
    "y_train = train_cont.get_sentiment()\n",
    "\n",
    "x_test = test_cont.get_reviews()\n",
    "y_test = test_cont.get_sentiment()"
   ]
  },
  {
   "cell_type": "code",
   "execution_count": 12,
   "metadata": {},
   "outputs": [],
   "source": [
    "# now lets break our datasets' reviews using the count_vectorizer\n",
    "# basically what count_vectorizer does in break each words down and changes them into a machine readable text\n",
    "# this little process is what is called BagOfWords\n",
    "\n",
    "count_Vec = CountVectorizer()\n",
    "x_train_vect = count_Vec.fit_transform(x_train)\n",
    "x_test_vect = count_Vec.transform(x_test)"
   ]
  },
  {
   "cell_type": "code",
   "execution_count": 13,
   "metadata": {
    "scrolled": true
   },
   "outputs": [
    {
     "name": "stdout",
     "output_type": "stream",
     "text": [
      "\n",
      "DECISION TREE CLASSIFICATION\n",
      "\n",
      "\n",
      "accuracy score:\n",
      " 0.6957279860505667\n",
      "classification reports:\n",
      "               precision    recall  f1-score   support\n",
      "\n",
      "    NEGATIVE       0.70      0.69      0.69      1147\n",
      "    POSITIVE       0.69      0.70      0.70      1147\n",
      "\n",
      "    accuracy                           0.70      2294\n",
      "   macro avg       0.70      0.70      0.70      2294\n",
      "weighted avg       0.70      0.70      0.70      2294\n",
      "\n"
     ]
    }
   ],
   "source": [
    "# using DecisionTree classifier\n",
    "clf_dt = DecisionTreeClassifier()\n",
    "clf_dt.fit(x_train_vect,y_train)\n",
    "clf_dt.predict(x_test_vect)\n",
    "print('\\nDECISION TREE CLASSIFICATION\\n\\n')\n",
    "print('accuracy score:\\n',accuracy_score(y_test,clf_dt.predict(x_test_vect)))\n",
    "print('classification reports:\\n',classification_report(y_test,clf_dt.predict(x_test_vect)))"
   ]
  },
  {
   "cell_type": "code",
   "execution_count": 14,
   "metadata": {},
   "outputs": [
    {
     "name": "stdout",
     "output_type": "stream",
     "text": [
      "\n",
      "SVC\n",
      "\n",
      "\n",
      "accuracy score:\n",
      " 0.8365300784655624\n",
      "classification reports:\n",
      "               precision    recall  f1-score   support\n",
      "\n",
      "    NEGATIVE       0.84      0.83      0.83      1147\n",
      "    POSITIVE       0.83      0.85      0.84      1147\n",
      "\n",
      "    accuracy                           0.84      2294\n",
      "   macro avg       0.84      0.84      0.84      2294\n",
      "weighted avg       0.84      0.84      0.84      2294\n",
      "\n"
     ]
    }
   ],
   "source": [
    "svc_classifier = SVC()\n",
    "svc_classifier.fit(x_train_vect,y_train)\n",
    "svc_classifier.predict(x_test_vect)\n",
    "print('\\nSVC\\n\\n')\n",
    "print('accuracy score:\\n',accuracy_score(y_test,svc_classifier.predict(x_test_vect)))\n",
    "print('classification reports:\\n',classification_report(y_test,svc_classifier.predict(x_test_vect)))"
   ]
  },
  {
   "cell_type": "code",
   "execution_count": null,
   "metadata": {},
   "outputs": [
    {
     "name": "stdout",
     "output_type": "stream",
     "text": [
      "[0.69835782 0.69305189]\n",
      "\n",
      "\n"
     ]
    }
   ],
   "source": [
    "# lets check our f1_score\n",
    "from sklearn.metrics import f1_score\n",
    "print(f1_score(y_test,clf_dt.predict(x_test_vect),average=None,labels=(SENTIMENT.POSITIVE,SENTIMENT.NEGATIVE)))\n",
    "print('\\n')\n",
    "print(f1_score(y_test,svc_classifier.predict(x_test_vect),average=None,labels=(SENTIMENT.POSITIVE,SENTIMENT.NEGATIVE)))"
   ]
  },
  {
   "cell_type": "code",
   "execution_count": null,
   "metadata": {},
   "outputs": [],
   "source": [
    "# saving our decision tree model using pickle\n",
    "\n",
    "import pickle\n",
    "\n",
    "with open('disney.pkl','wb') as myfile:\n",
    "    pickle.dump(clf_dt,myfile)\n",
    "\n",
    "with open('disney.pkl','rb') as myfile:\n",
    "    model = pickle.load(myfile)"
   ]
  },
  {
   "cell_type": "code",
   "execution_count": null,
   "metadata": {},
   "outputs": [],
   "source": [
    "# saving our support vector machine model using pickle\n",
    "\n",
    "import pickle\n",
    "\n",
    "with open('disney_svc.pkl','wb') as myfile:\n",
    "    pickle.dump(svc_classifier,myfile)\n",
    "\n",
    "with open('disney_svc.pkl','rb') as myfile:\n",
    "    model_svc = pickle.load(myfile)"
   ]
  },
  {
   "cell_type": "code",
   "execution_count": null,
   "metadata": {},
   "outputs": [],
   "source": [
    "testing = ['the tour is a nice one .. i really enjoyed it.','the tour is a bad one, no improvement at all.']\n",
    "s = count_Vec.transform(testing)\n",
    "model.predict(s)"
   ]
  },
  {
   "cell_type": "code",
   "execution_count": null,
   "metadata": {},
   "outputs": [],
   "source": [
    "testing = ['the tour is a bad one .. I really did not enjoy it.','the tour is a bad one, no improvement at all.']\n",
    "s = count_Vec.transform(testing)\n",
    "model_svc.predict(s)"
   ]
  },
  {
   "cell_type": "code",
   "execution_count": null,
   "metadata": {},
   "outputs": [],
   "source": []
  },
  {
   "cell_type": "markdown",
   "metadata": {},
   "source": [
    "## Visualization"
   ]
  },
  {
   "cell_type": "markdown",
   "metadata": {},
   "source": [
    "## Now lets plot a graph using matplotlib"
   ]
  },
  {
   "cell_type": "code",
   "execution_count": null,
   "metadata": {},
   "outputs": [],
   "source": [
    "# Lets plot the graph showing the Disneyland Branch with the highest number of Positive reviews"
   ]
  },
  {
   "cell_type": "code",
   "execution_count": null,
   "metadata": {},
   "outputs": [],
   "source": [
    "files\n",
    "hongkong = files.loc[files['Branch']=='Disneyland_HongKong']\n",
    "hongkong = hongkong.loc[hongkong.Rating>=4]['Rating'].count()\n",
    "california = files.loc[files['Branch']=='Disneyland_California']\n",
    "california = california.loc[california.Rating>=4]['Rating'].count()\n",
    "paris = files.loc[files['Branch']=='Disneyland_Paris']\n",
    "paris = paris.loc[paris.Rating>=4]['Rating'].count()\n",
    "plt.style.use('ggplot')\n",
    "plt.figure(figsize=(15,5))\n",
    "label = ['hongkong','california','paris']\n",
    "plt.pie([hongkong,california,paris],\n",
    "        autopct='%.2f %%',\n",
    "        labels=label,explode=[.1,.15,.2],\n",
    "        pctdistance=.5)\n",
    "plt.title('Disneyland Branch with the highest number of POSITIVE Reviews',fontdict={'fontname':'monospace','fontsize':15})\n",
    "plt.show()"
   ]
  }
 ],
 "metadata": {
  "kernelspec": {
   "display_name": "Python 3",
   "language": "python",
   "name": "python3"
  },
  "language_info": {
   "codemirror_mode": {
    "name": "ipython",
    "version": 3
   },
   "file_extension": ".py",
   "mimetype": "text/x-python",
   "name": "python",
   "nbconvert_exporter": "python",
   "pygments_lexer": "ipython3",
   "version": "3.8.5"
  }
 },
 "nbformat": 4,
 "nbformat_minor": 4
}
