{
 "cells": [
  {
   "cell_type": "markdown",
   "metadata": {},
   "source": [
    "# BUILDING A MACHINE LEARNING MODEL OF THE DISNEYLAND TOUR'S \n",
    "# REVIEWS"
   ]
  },
  {
   "cell_type": "markdown",
   "metadata": {},
   "source": [
    "## importing necessary libraries"
   ]
  },
  {
   "cell_type": "code",
   "execution_count": 3,
   "metadata": {},
   "outputs": [],
   "source": [
    "# importing the necessary libraries\n",
    "from sklearn.metrics import f1_score,accuracy_score,classification_report\n",
    "from sklearn.feature_extraction.text import CountVectorizer\n",
    "from sklearn.model_selection import train_test_split\n",
    "from sklearn.linear_model import LogisticRegression\n",
    "from sklearn.tree import DecisionTreeClassifier\n",
    "from sklearn.svm import SVC\n",
    "import numpy as np\n",
    "import pandas as pd\n",
    "import matplotlib.pyplot as plt"
   ]
  },
  {
   "cell_type": "markdown",
   "metadata": {},
   "source": [
    "## reading the csv file"
   ]
  },
  {
   "cell_type": "code",
   "execution_count": null,
   "metadata": {},
   "outputs": [],
   "source": [
    "# reading the file...\n",
    "file = pd.read_csv('DisneylandReviews.csv')\n",
    "files = file.copy()\n",
    "file.head()"
   ]
  },
  {
   "cell_type": "code",
   "execution_count": null,
   "metadata": {},
   "outputs": [],
   "source": [
    "# for this particular model we need only the reviews and the ratings and so we will reduce our file to just the two\n",
    "file = file[['Review_Text','Rating']]\n",
    "file.head()"
   ]
  },
  {
   "cell_type": "code",
   "execution_count": null,
   "metadata": {},
   "outputs": [],
   "source": [
    "# now we need to create a sentiment class from our rating to keep our file clean...\n",
    "# to do that lets change our file into a JSONlike file by putting it in a list of dictionary..\n",
    "#lets make use of a for-loop\n",
    "\n",
    "# lets change the individual columns into a list\n",
    "Ratings = list(file['Rating'])\n",
    "Reviews = list(file['Review_Text'])\n",
    "new_file = []\n",
    "for ratings,reviews in zip(Ratings,Reviews):\n",
    "    List = {'Reviews':reviews,'Rating':ratings}\n",
    "    new_file.append(List)\n",
    "    \n",
    "new_file[:2]"
   ]
  },
  {
   "cell_type": "code",
   "execution_count": null,
   "metadata": {},
   "outputs": [],
   "source": [
    "# now lets create the class ...\n",
    "\n",
    "\n",
    "class SENTIMENT:\n",
    "    POSITIVE = 'POSITIVE'\n",
    "    NEGATIVE = 'NEGATIVE'\n",
    "    #positive sentiments = ratings 1 and 2\n",
    "    #negative sentiments = ratings > 2\n",
    "    \n",
    "#    \n",
    "class Review:\n",
    "    def __init__(self,Reviews,Rating):\n",
    "        self.Reviews = Reviews\n",
    "        self.Rating = Rating\n",
    "        self.Sentiment = self.get_sentiment()\n",
    "        \n",
    "    def get_sentiment(self):\n",
    "        if (self.Rating == 1 or self.Rating == 2):\n",
    "            return SENTIMENT.NEGATIVE\n",
    "        else:\n",
    "            return SENTIMENT.POSITIVE   \n",
    "        \n",
    "class ReviewContainer:\n",
    "    def __init__(self,reviews):\n",
    "        self.reviews = reviews\n",
    "        \n",
    "    def get_reviews(self):\n",
    "        return [x.Reviews for x in self.reviews]\n",
    "    def get_sentiment(self):\n",
    "        return [x.Sentiment for x in self.reviews]\n",
    "    \n",
    "# this method evenly distributes between the positive and negative reviews    \n",
    "    def EvenlyDistribute(self):\n",
    "        positive = list(filter(lambda x:x.Sentiment==SENTIMENT.POSITIVE,self.reviews))\n",
    "        negative = list(filter(lambda x:x.Sentiment==SENTIMENT.NEGATIVE,self.reviews))\n",
    "        positive_shrunked = positive[:len(negative)]\n",
    "        self.reviews = negative + positive_shrunked      "
   ]
  },
  {
   "cell_type": "code",
   "execution_count": null,
   "metadata": {},
   "outputs": [],
   "source": [
    "Disney_file = []\n",
    "for lists in new_file:\n",
    "    new_file_list = Review(lists['Reviews'],lists['Rating'])\n",
    "    Disney_file.append(new_file_list)\n",
    "Disney_file[0].Reviews"
   ]
  },
  {
   "cell_type": "code",
   "execution_count": null,
   "metadata": {},
   "outputs": [],
   "source": [
    "# lets build or model\n",
    "# lets split our Disney_file\n",
    "\n",
    "train,test = train_test_split(Disney_file,test_size=0.3,random_state=21)\n",
    "# lets split both our train and test into xs and ys\n",
    "# lets make use of our class\n",
    "train_cont = ReviewContainer(train)\n",
    "test_cont = ReviewContainer(test)\n",
    "\n",
    "train_cont.EvenlyDistribute()\n",
    "test_cont.EvenlyDistribute()\n",
    "\n",
    "x_train = train_cont.get_reviews()\n",
    "y_train = train_cont.get_sentiment()\n",
    "\n",
    "x_test = test_cont.get_reviews()\n",
    "y_test = test_cont.get_sentiment()"
   ]
  },
  {
   "cell_type": "code",
   "execution_count": null,
   "metadata": {},
   "outputs": [],
   "source": [
    "# now lets break our datasets' reviews using the count_vectorizer\n",
    "# basically what count_vectorizer does in break each words down and changes them into a machine readable text\n",
    "# this little process is what is called BagOfWords\n",
    "\n",
    "count_Vec = CountVectorizer()\n",
    "x_train_vect = count_Vec.fit_transform(x_train)\n",
    "x_test_vect = count_Vec.transform(x_test)"
   ]
  },
  {
   "cell_type": "code",
   "execution_count": null,
   "metadata": {
    "scrolled": true
   },
   "outputs": [],
   "source": [
    "# using DecisionTree classifier\n",
    "clf_dt = DecisionTreeClassifier()\n",
    "clf_dt.fit(x_train_vect,y_train)\n",
    "clf_dt.predict(x_test_vect)\n",
    "print('\\nDECISION TREE CLASSIFICATION\\n\\n')\n",
    "print('accuracy score:\\n',accuracy_score(y_test,clf_dt.predict(x_test_vect)))\n",
    "print('classification reports:\\n',classification_report(y_test,clf_dt.predict(x_test_vect)))"
   ]
  },
  {
   "cell_type": "code",
   "execution_count": null,
   "metadata": {},
   "outputs": [],
   "source": [
    "svc_classifier = SVC()\n",
    "svc_classifier.fit(x_train_vect,y_train)\n",
    "svc_classifier.predict(x_test_vect)\n",
    "print('\\nSVC\\n\\n')\n",
    "print('accuracy score:\\n',accuracy_score(y_test,svc_classifier.predict(x_test_vect)))\n",
    "print('classification reports:\\n',classification_report(y_test,svc_classifier.predict(x_test_vect)))"
   ]
  },
  {
   "cell_type": "code",
   "execution_count": null,
   "metadata": {},
   "outputs": [],
   "source": [
    "# lets check our f1_score\n",
    "from sklearn.metrics import f1_score\n",
    "print(f1_score(y_test,clf_dt.predict(x_test_vect),average=None,labels=(SENTIMENT.POSITIVE,SENTIMENT.NEGATIVE)))\n",
    "print('/n')\n",
    "print(f1_score(y_test,svc.predict(x_test_vect),average=None,labels=(SENTIMENT.POSITIVE,SENTIMENT.NEGATIVE)))"
   ]
  },
  {
   "cell_type": "code",
   "execution_count": null,
   "metadata": {},
   "outputs": [],
   "source": [
    "# saving our model using pickle\n",
    "\n",
    "import pickle\n",
    "\n",
    "with open('disney.pkl','wb') as myfile:\n",
    "    pickle.dump(clf_dt,myfile)\n",
    "\n",
    "with open('disney.pkl','rb') as myfile:\n",
    "    model = pickle.load(myfile)"
   ]
  },
  {
   "cell_type": "code",
   "execution_count": null,
   "metadata": {},
   "outputs": [],
   "source": []
  },
  {
   "cell_type": "code",
   "execution_count": null,
   "metadata": {},
   "outputs": [],
   "source": [
    "testing = ['the tour is a nice one .. i really enjoyed it.','the tour is a bad one, no improvement at all.']\n",
    "s = count_Vec.transform(testing)\n",
    "model.predict(s)"
   ]
  },
  {
   "cell_type": "markdown",
   "metadata": {},
   "source": [
    "## Visualization"
   ]
  },
  {
   "cell_type": "markdown",
   "metadata": {},
   "source": [
    "## Now lets plot a graph using matplotlib"
   ]
  },
  {
   "cell_type": "code",
   "execution_count": null,
   "metadata": {},
   "outputs": [],
   "source": [
    "# Lets plot the graph showing the Disneyland Branch with the highest number of Positive reviews"
   ]
  },
  {
   "cell_type": "code",
   "execution_count": null,
   "metadata": {},
   "outputs": [],
   "source": [
    "files\n",
    "hongkong = files.loc[files['Branch']=='Disneyland_HongKong']\n",
    "hongkong = hongkong.loc[hongkong.Rating>=4]['Rating'].count()\n",
    "california = files.loc[files['Branch']=='Disneyland_California']\n",
    "california = california.loc[california.Rating>=4]['Rating'].count()\n",
    "paris = files.loc[files['Branch']=='Disneyland_Paris']\n",
    "paris = paris.loc[paris.Rating>=4]['Rating'].count()\n",
    "plt.style.use('ggplot')\n",
    "plt.figure(figsize=(15,5))\n",
    "label = ['hongkong','california','paris']\n",
    "plt.pie([hongkong,california,paris],\n",
    "        autopct='%.2f %%',\n",
    "        labels=label,explode=[.1,.15,.2],\n",
    "        pctdistance=.5)\n",
    "plt.title('Disneyland Branch with the highest number of POSITIVE Reviews',fontdict={'fontname':'monospace','fontsize':15})\n",
    "plt.show()"
   ]
  }
 ],
 "metadata": {
  "kernelspec": {
   "display_name": "Python 3",
   "language": "python",
   "name": "python3"
  },
  "language_info": {
   "codemirror_mode": {
    "name": "ipython",
    "version": 3
   },
   "file_extension": ".py",
   "mimetype": "text/x-python",
   "name": "python",
   "nbconvert_exporter": "python",
   "pygments_lexer": "ipython3",
   "version": "3.8.5"
  }
 },
 "nbformat": 4,
 "nbformat_minor": 4
}
